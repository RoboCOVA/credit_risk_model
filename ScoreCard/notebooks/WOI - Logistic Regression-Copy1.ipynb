{
 "cells": [
  {
   "cell_type": "code",
   "execution_count": 10,
   "metadata": {},
   "outputs": [],
   "source": [
    "import sys\n",
    "sys.path.append(\"..\")\n",
    "from collections import defaultdict\n",
    "import pandas as pd\n",
    "import numpy as np\n",
    "import matplotlib.pyplot as plt\n",
    "cmap = plt.cm.tab20\n",
    "from src.score_card import ScoreCardBuilder\n",
    "from src.preprocess import Binner\n",
    "import pickle"
   ]
  },
  {
   "cell_type": "markdown",
   "metadata": {},
   "source": []
  },
  {
   "cell_type": "code",
   "execution_count": 11,
   "metadata": {},
   "outputs": [],
   "source": [
    "# with open(\"working-dir/model.pkl\", \"rb\") as input_file:\n",
    "#     model = pickle.load(input_file)"
   ]
  },
  {
   "cell_type": "markdown",
   "metadata": {},
   "source": [
    "### Training the model"
   ]
  },
  {
   "cell_type": "code",
   "execution_count": 12,
   "metadata": {},
   "outputs": [],
   "source": [
    "scorecard_builder = ScoreCardBuilder()"
   ]
  },
  {
   "cell_type": "code",
   "execution_count": 13,
   "metadata": {},
   "outputs": [],
   "source": [
    "data = pd.read_csv(\"../dataset/germancredit.csv\")"
   ]
  },
  {
   "cell_type": "code",
   "execution_count": 14,
   "metadata": {},
   "outputs": [],
   "source": [
    "cols_num_beans = {\n",
    "    \"age.in.years\":20, \n",
    "    \"duration.in.month\":10,\n",
    "    \"credit.amount\":50\n",
    "\n",
    "}\n",
    "cols_todo_bins = list(cols_num_beans)\n",
    "binner = Binner(cols_todo_bins, cols_num_beans)\n",
    "selected_colums = data.columns[:-1]\n",
    "binner.selected_columns = selected_colums\n",
    "_ = binner(data)\n"
   ]
  },
  {
   "cell_type": "code",
   "execution_count": 15,
   "metadata": {},
   "outputs": [
    {
     "data": {
      "text/html": [
       "<div>\n",
       "<style scoped>\n",
       "    .dataframe tbody tr th:only-of-type {\n",
       "        vertical-align: middle;\n",
       "    }\n",
       "\n",
       "    .dataframe tbody tr th {\n",
       "        vertical-align: top;\n",
       "    }\n",
       "\n",
       "    .dataframe thead th {\n",
       "        text-align: right;\n",
       "    }\n",
       "</style>\n",
       "<table border=\"1\" class=\"dataframe\">\n",
       "  <thead>\n",
       "    <tr style=\"text-align: right;\">\n",
       "      <th></th>\n",
       "      <th>status.of.existing.checking.account</th>\n",
       "      <th>duration.in.month</th>\n",
       "      <th>credit.history</th>\n",
       "      <th>purpose</th>\n",
       "      <th>credit.amount</th>\n",
       "      <th>savings.account.and.bonds</th>\n",
       "      <th>present.employment.since</th>\n",
       "      <th>installment.rate.in.percentage.of.disposable.income</th>\n",
       "      <th>personal.status.and.sex</th>\n",
       "      <th>other.debtors.or.guarantors</th>\n",
       "      <th>...</th>\n",
       "      <th>property</th>\n",
       "      <th>age.in.years</th>\n",
       "      <th>other.installment.plans</th>\n",
       "      <th>housing</th>\n",
       "      <th>number.of.existing.credits.at.this.bank</th>\n",
       "      <th>job</th>\n",
       "      <th>number.of.people.being.liable.to.provide.maintenance.for</th>\n",
       "      <th>telephone</th>\n",
       "      <th>foreign.worker</th>\n",
       "      <th>creditability</th>\n",
       "    </tr>\n",
       "  </thead>\n",
       "  <tbody>\n",
       "    <tr>\n",
       "      <th>0</th>\n",
       "      <td>... &lt; 0 DM</td>\n",
       "      <td>(3.932, 10.8]</td>\n",
       "      <td>critical account/ other credits existing (not ...</td>\n",
       "      <td>radio/television</td>\n",
       "      <td>(976.96, 1340.44]</td>\n",
       "      <td>unknown/ no savings account</td>\n",
       "      <td>... &gt;= 7 years</td>\n",
       "      <td>4</td>\n",
       "      <td>male : divorced/separated</td>\n",
       "      <td>none</td>\n",
       "      <td>...</td>\n",
       "      <td>real estate</td>\n",
       "      <td>(66.6, 69.4]</td>\n",
       "      <td>none</td>\n",
       "      <td>own</td>\n",
       "      <td>2</td>\n",
       "      <td>skilled employee / official</td>\n",
       "      <td>1</td>\n",
       "      <td>yes, registered under the customers name</td>\n",
       "      <td>yes</td>\n",
       "      <td>good</td>\n",
       "    </tr>\n",
       "    <tr>\n",
       "      <th>1</th>\n",
       "      <td>0 &lt;= ... &lt; 200 DM</td>\n",
       "      <td>(44.8, 51.6]</td>\n",
       "      <td>existing credits paid back duly till now</td>\n",
       "      <td>radio/television</td>\n",
       "      <td>(5702.2, 6065.68]</td>\n",
       "      <td>... &lt; 100 DM</td>\n",
       "      <td>1 &lt;= ... &lt; 4 years</td>\n",
       "      <td>2</td>\n",
       "      <td>male : divorced/separated</td>\n",
       "      <td>none</td>\n",
       "      <td>...</td>\n",
       "      <td>real estate</td>\n",
       "      <td>(21.8, 24.6]</td>\n",
       "      <td>none</td>\n",
       "      <td>own</td>\n",
       "      <td>1</td>\n",
       "      <td>skilled employee / official</td>\n",
       "      <td>1</td>\n",
       "      <td>none</td>\n",
       "      <td>yes</td>\n",
       "      <td>bad</td>\n",
       "    </tr>\n",
       "    <tr>\n",
       "      <th>2</th>\n",
       "      <td>no checking account</td>\n",
       "      <td>(10.8, 17.6]</td>\n",
       "      <td>critical account/ other credits existing (not ...</td>\n",
       "      <td>education</td>\n",
       "      <td>(2067.4, 2430.88]</td>\n",
       "      <td>... &lt; 100 DM</td>\n",
       "      <td>4 &lt;= ... &lt; 7 years</td>\n",
       "      <td>2</td>\n",
       "      <td>male : divorced/separated</td>\n",
       "      <td>none</td>\n",
       "      <td>...</td>\n",
       "      <td>real estate</td>\n",
       "      <td>(47.0, 49.8]</td>\n",
       "      <td>none</td>\n",
       "      <td>own</td>\n",
       "      <td>1</td>\n",
       "      <td>unskilled - resident</td>\n",
       "      <td>2</td>\n",
       "      <td>none</td>\n",
       "      <td>yes</td>\n",
       "      <td>good</td>\n",
       "    </tr>\n",
       "    <tr>\n",
       "      <th>3</th>\n",
       "      <td>... &lt; 0 DM</td>\n",
       "      <td>(38.0, 44.8]</td>\n",
       "      <td>existing credits paid back duly till now</td>\n",
       "      <td>furniture/equipment</td>\n",
       "      <td>(7519.6, 7883.08]</td>\n",
       "      <td>... &lt; 100 DM</td>\n",
       "      <td>4 &lt;= ... &lt; 7 years</td>\n",
       "      <td>2</td>\n",
       "      <td>male : divorced/separated</td>\n",
       "      <td>guarantor</td>\n",
       "      <td>...</td>\n",
       "      <td>building society savings agreement/ life insur...</td>\n",
       "      <td>(44.2, 47.0]</td>\n",
       "      <td>none</td>\n",
       "      <td>for free</td>\n",
       "      <td>1</td>\n",
       "      <td>skilled employee / official</td>\n",
       "      <td>2</td>\n",
       "      <td>none</td>\n",
       "      <td>yes</td>\n",
       "      <td>good</td>\n",
       "    </tr>\n",
       "    <tr>\n",
       "      <th>4</th>\n",
       "      <td>... &lt; 0 DM</td>\n",
       "      <td>(17.6, 24.4]</td>\n",
       "      <td>delay in paying off in the past</td>\n",
       "      <td>car (new)</td>\n",
       "      <td>(4611.76, 4975.24]</td>\n",
       "      <td>... &lt; 100 DM</td>\n",
       "      <td>1 &lt;= ... &lt; 4 years</td>\n",
       "      <td>3</td>\n",
       "      <td>male : divorced/separated</td>\n",
       "      <td>none</td>\n",
       "      <td>...</td>\n",
       "      <td>unknown / no property</td>\n",
       "      <td>(52.6, 55.4]</td>\n",
       "      <td>none</td>\n",
       "      <td>for free</td>\n",
       "      <td>2</td>\n",
       "      <td>skilled employee / official</td>\n",
       "      <td>2</td>\n",
       "      <td>none</td>\n",
       "      <td>yes</td>\n",
       "      <td>bad</td>\n",
       "    </tr>\n",
       "  </tbody>\n",
       "</table>\n",
       "<p>5 rows × 21 columns</p>\n",
       "</div>"
      ],
      "text/plain": [
       "  status.of.existing.checking.account duration.in.month  \\\n",
       "0                          ... < 0 DM     (3.932, 10.8]   \n",
       "1                   0 <= ... < 200 DM      (44.8, 51.6]   \n",
       "2                 no checking account      (10.8, 17.6]   \n",
       "3                          ... < 0 DM      (38.0, 44.8]   \n",
       "4                          ... < 0 DM      (17.6, 24.4]   \n",
       "\n",
       "                                      credit.history              purpose  \\\n",
       "0  critical account/ other credits existing (not ...     radio/television   \n",
       "1           existing credits paid back duly till now     radio/television   \n",
       "2  critical account/ other credits existing (not ...            education   \n",
       "3           existing credits paid back duly till now  furniture/equipment   \n",
       "4                    delay in paying off in the past            car (new)   \n",
       "\n",
       "        credit.amount    savings.account.and.bonds present.employment.since  \\\n",
       "0   (976.96, 1340.44]  unknown/ no savings account           ... >= 7 years   \n",
       "1   (5702.2, 6065.68]                 ... < 100 DM       1 <= ... < 4 years   \n",
       "2   (2067.4, 2430.88]                 ... < 100 DM       4 <= ... < 7 years   \n",
       "3   (7519.6, 7883.08]                 ... < 100 DM       4 <= ... < 7 years   \n",
       "4  (4611.76, 4975.24]                 ... < 100 DM       1 <= ... < 4 years   \n",
       "\n",
       "   installment.rate.in.percentage.of.disposable.income  \\\n",
       "0                                                  4     \n",
       "1                                                  2     \n",
       "2                                                  2     \n",
       "3                                                  2     \n",
       "4                                                  3     \n",
       "\n",
       "     personal.status.and.sex other.debtors.or.guarantors  ...  \\\n",
       "0  male : divorced/separated                        none  ...   \n",
       "1  male : divorced/separated                        none  ...   \n",
       "2  male : divorced/separated                        none  ...   \n",
       "3  male : divorced/separated                   guarantor  ...   \n",
       "4  male : divorced/separated                        none  ...   \n",
       "\n",
       "                                            property  age.in.years  \\\n",
       "0                                        real estate  (66.6, 69.4]   \n",
       "1                                        real estate  (21.8, 24.6]   \n",
       "2                                        real estate  (47.0, 49.8]   \n",
       "3  building society savings agreement/ life insur...  (44.2, 47.0]   \n",
       "4                              unknown / no property  (52.6, 55.4]   \n",
       "\n",
       "  other.installment.plans   housing number.of.existing.credits.at.this.bank  \\\n",
       "0                    none       own                                       2   \n",
       "1                    none       own                                       1   \n",
       "2                    none       own                                       1   \n",
       "3                    none  for free                                       1   \n",
       "4                    none  for free                                       2   \n",
       "\n",
       "                           job  \\\n",
       "0  skilled employee / official   \n",
       "1  skilled employee / official   \n",
       "2         unskilled - resident   \n",
       "3  skilled employee / official   \n",
       "4  skilled employee / official   \n",
       "\n",
       "  number.of.people.being.liable.to.provide.maintenance.for  \\\n",
       "0                                                  1         \n",
       "1                                                  1         \n",
       "2                                                  2         \n",
       "3                                                  2         \n",
       "4                                                  2         \n",
       "\n",
       "                                  telephone foreign.worker creditability  \n",
       "0  yes, registered under the customers name            yes          good  \n",
       "1                                      none            yes           bad  \n",
       "2                                      none            yes          good  \n",
       "3                                      none            yes          good  \n",
       "4                                      none            yes           bad  \n",
       "\n",
       "[5 rows x 21 columns]"
      ]
     },
     "execution_count": 15,
     "metadata": {},
     "output_type": "execute_result"
    }
   ],
   "source": [
    "binner.data.head()"
   ]
  },
  {
   "cell_type": "code",
   "execution_count": 16,
   "metadata": {},
   "outputs": [],
   "source": [
    "def row_to_dict(row):\n",
    "    output = {}\n",
    "    for col in list(row.keys())[:-1]:\n",
    "        output[col] = row[col]\n",
    "    return output"
   ]
  },
  {
   "cell_type": "code",
   "execution_count": 17,
   "metadata": {},
   "outputs": [],
   "source": [
    "scores = []\n",
    "for index, row in binner.data.iterrows():\n",
    "    features = row_to_dict(row)\n",
    "    score = scorecard_builder.compute_score(features)\n",
    "    scores.append(score)"
   ]
  },
  {
   "cell_type": "code",
   "execution_count": 18,
   "metadata": {},
   "outputs": [],
   "source": [
    "binner.data[\"score\"] = scores"
   ]
  },
  {
   "cell_type": "code",
   "execution_count": 19,
   "metadata": {},
   "outputs": [
    {
     "data": {
      "text/html": [
       "<div>\n",
       "<style scoped>\n",
       "    .dataframe tbody tr th:only-of-type {\n",
       "        vertical-align: middle;\n",
       "    }\n",
       "\n",
       "    .dataframe tbody tr th {\n",
       "        vertical-align: top;\n",
       "    }\n",
       "\n",
       "    .dataframe thead th {\n",
       "        text-align: right;\n",
       "    }\n",
       "</style>\n",
       "<table border=\"1\" class=\"dataframe\">\n",
       "  <thead>\n",
       "    <tr style=\"text-align: right;\">\n",
       "      <th></th>\n",
       "      <th>creditability</th>\n",
       "      <th>score</th>\n",
       "    </tr>\n",
       "  </thead>\n",
       "  <tbody>\n",
       "    <tr>\n",
       "      <th>0</th>\n",
       "      <td>good</td>\n",
       "      <td>714.488219</td>\n",
       "    </tr>\n",
       "    <tr>\n",
       "      <th>1</th>\n",
       "      <td>bad</td>\n",
       "      <td>644.899378</td>\n",
       "    </tr>\n",
       "    <tr>\n",
       "      <th>2</th>\n",
       "      <td>good</td>\n",
       "      <td>743.863010</td>\n",
       "    </tr>\n",
       "    <tr>\n",
       "      <th>3</th>\n",
       "      <td>good</td>\n",
       "      <td>673.664860</td>\n",
       "    </tr>\n",
       "    <tr>\n",
       "      <th>4</th>\n",
       "      <td>bad</td>\n",
       "      <td>594.565752</td>\n",
       "    </tr>\n",
       "    <tr>\n",
       "      <th>5</th>\n",
       "      <td>good</td>\n",
       "      <td>679.463219</td>\n",
       "    </tr>\n",
       "    <tr>\n",
       "      <th>6</th>\n",
       "      <td>good</td>\n",
       "      <td>717.702956</td>\n",
       "    </tr>\n",
       "    <tr>\n",
       "      <th>7</th>\n",
       "      <td>good</td>\n",
       "      <td>636.279557</td>\n",
       "    </tr>\n",
       "    <tr>\n",
       "      <th>8</th>\n",
       "      <td>good</td>\n",
       "      <td>752.732890</td>\n",
       "    </tr>\n",
       "    <tr>\n",
       "      <th>9</th>\n",
       "      <td>bad</td>\n",
       "      <td>626.472932</td>\n",
       "    </tr>\n",
       "    <tr>\n",
       "      <th>10</th>\n",
       "      <td>bad</td>\n",
       "      <td>640.503416</td>\n",
       "    </tr>\n",
       "    <tr>\n",
       "      <th>11</th>\n",
       "      <td>bad</td>\n",
       "      <td>565.202502</td>\n",
       "    </tr>\n",
       "    <tr>\n",
       "      <th>12</th>\n",
       "      <td>good</td>\n",
       "      <td>694.312447</td>\n",
       "    </tr>\n",
       "    <tr>\n",
       "      <th>13</th>\n",
       "      <td>bad</td>\n",
       "      <td>627.944818</td>\n",
       "    </tr>\n",
       "    <tr>\n",
       "      <th>14</th>\n",
       "      <td>good</td>\n",
       "      <td>643.127810</td>\n",
       "    </tr>\n",
       "    <tr>\n",
       "      <th>15</th>\n",
       "      <td>bad</td>\n",
       "      <td>645.657647</td>\n",
       "    </tr>\n",
       "    <tr>\n",
       "      <th>16</th>\n",
       "      <td>good</td>\n",
       "      <td>731.042868</td>\n",
       "    </tr>\n",
       "    <tr>\n",
       "      <th>17</th>\n",
       "      <td>good</td>\n",
       "      <td>587.880420</td>\n",
       "    </tr>\n",
       "    <tr>\n",
       "      <th>18</th>\n",
       "      <td>bad</td>\n",
       "      <td>-144.862751</td>\n",
       "    </tr>\n",
       "    <tr>\n",
       "      <th>19</th>\n",
       "      <td>good</td>\n",
       "      <td>735.378093</td>\n",
       "    </tr>\n",
       "    <tr>\n",
       "      <th>20</th>\n",
       "      <td>good</td>\n",
       "      <td>741.923085</td>\n",
       "    </tr>\n",
       "    <tr>\n",
       "      <th>21</th>\n",
       "      <td>good</td>\n",
       "      <td>696.659794</td>\n",
       "    </tr>\n",
       "    <tr>\n",
       "      <th>22</th>\n",
       "      <td>good</td>\n",
       "      <td>715.348915</td>\n",
       "    </tr>\n",
       "    <tr>\n",
       "      <th>23</th>\n",
       "      <td>good</td>\n",
       "      <td>695.510154</td>\n",
       "    </tr>\n",
       "    <tr>\n",
       "      <th>24</th>\n",
       "      <td>good</td>\n",
       "      <td>781.968214</td>\n",
       "    </tr>\n",
       "    <tr>\n",
       "      <th>25</th>\n",
       "      <td>good</td>\n",
       "      <td>688.787513</td>\n",
       "    </tr>\n",
       "    <tr>\n",
       "      <th>26</th>\n",
       "      <td>good</td>\n",
       "      <td>722.227086</td>\n",
       "    </tr>\n",
       "    <tr>\n",
       "      <th>27</th>\n",
       "      <td>good</td>\n",
       "      <td>719.113082</td>\n",
       "    </tr>\n",
       "    <tr>\n",
       "      <th>28</th>\n",
       "      <td>good</td>\n",
       "      <td>722.897999</td>\n",
       "    </tr>\n",
       "    <tr>\n",
       "      <th>29</th>\n",
       "      <td>bad</td>\n",
       "      <td>635.522746</td>\n",
       "    </tr>\n",
       "  </tbody>\n",
       "</table>\n",
       "</div>"
      ],
      "text/plain": [
       "   creditability       score\n",
       "0           good  714.488219\n",
       "1            bad  644.899378\n",
       "2           good  743.863010\n",
       "3           good  673.664860\n",
       "4            bad  594.565752\n",
       "5           good  679.463219\n",
       "6           good  717.702956\n",
       "7           good  636.279557\n",
       "8           good  752.732890\n",
       "9            bad  626.472932\n",
       "10           bad  640.503416\n",
       "11           bad  565.202502\n",
       "12          good  694.312447\n",
       "13           bad  627.944818\n",
       "14          good  643.127810\n",
       "15           bad  645.657647\n",
       "16          good  731.042868\n",
       "17          good  587.880420\n",
       "18           bad -144.862751\n",
       "19          good  735.378093\n",
       "20          good  741.923085\n",
       "21          good  696.659794\n",
       "22          good  715.348915\n",
       "23          good  695.510154\n",
       "24          good  781.968214\n",
       "25          good  688.787513\n",
       "26          good  722.227086\n",
       "27          good  719.113082\n",
       "28          good  722.897999\n",
       "29           bad  635.522746"
      ]
     },
     "execution_count": 19,
     "metadata": {},
     "output_type": "execute_result"
    }
   ],
   "source": [
    "binner.data[[\"creditability\", \"score\"]].head(30)"
   ]
  },
  {
   "cell_type": "code",
   "execution_count": 20,
   "metadata": {},
   "outputs": [],
   "source": [
    "good_min, good_max, bad_min, bad_max = [None] * 4"
   ]
  },
  {
   "cell_type": "code",
   "execution_count": 21,
   "metadata": {},
   "outputs": [],
   "source": [
    "for index, row in binner.data.iterrows():\n",
    "    if row[\"creditability\"] == \"good\":\n",
    "        if good_min is None or good_min > row[\"score\"]:\n",
    "            good_min = row[\"score\"]\n",
    "        if good_max is None or good_max < row[\"score\"]:\n",
    "            good_max = row[\"score\"]\n",
    "    else:\n",
    "        if bad_min is None or bad_min > row[\"score\"]:\n",
    "            bad_min = row[\"score\"]\n",
    "        if bad_max is None or bad_max < row[\"score\"]:\n",
    "            bad_max = row[\"score\"]"
   ]
  },
  {
   "cell_type": "code",
   "execution_count": 22,
   "metadata": {},
   "outputs": [
    {
     "data": {
      "text/plain": [
       "570.162982776487"
      ]
     },
     "execution_count": 22,
     "metadata": {},
     "output_type": "execute_result"
    }
   ],
   "source": [
    "good_min"
   ]
  },
  {
   "cell_type": "code",
   "execution_count": 23,
   "metadata": {},
   "outputs": [
    {
     "data": {
      "text/plain": [
       "1515.2529013586459"
      ]
     },
     "execution_count": 23,
     "metadata": {},
     "output_type": "execute_result"
    }
   ],
   "source": [
    "good_max"
   ]
  },
  {
   "cell_type": "code",
   "execution_count": 24,
   "metadata": {},
   "outputs": [
    {
     "data": {
      "text/plain": [
       "-235.26000025216166"
      ]
     },
     "execution_count": 24,
     "metadata": {},
     "output_type": "execute_result"
    }
   ],
   "source": [
    "bad_min"
   ]
  },
  {
   "cell_type": "code",
   "execution_count": 25,
   "metadata": {},
   "outputs": [
    {
     "data": {
      "text/plain": [
       "746.1369090331581"
      ]
     },
     "execution_count": 25,
     "metadata": {},
     "output_type": "execute_result"
    }
   ],
   "source": [
    "bad_max"
   ]
  },
  {
   "cell_type": "code",
   "execution_count": 26,
   "metadata": {},
   "outputs": [],
   "source": [
    "ranges = [(i * 50, (i + 1) * 50) for i in range(20)]"
   ]
  },
  {
   "cell_type": "code",
   "execution_count": 27,
   "metadata": {},
   "outputs": [],
   "source": [
    "range_counts = defaultdict(lambda: defaultdict(int))"
   ]
  },
  {
   "cell_type": "code",
   "execution_count": 28,
   "metadata": {},
   "outputs": [],
   "source": [
    "for index, row in binner.data.iterrows():\n",
    "    score = int(round(row['score']))\n",
    "    if score % 50 == 0:\n",
    "        range_min = (score // 50 - 1) * 50\n",
    "        range_max = score\n",
    "    else:\n",
    "        range_min = score // 50  * 50\n",
    "        range_max = (score//50 + 1) * 50\n",
    "    c = row[\"creditability\"]\n",
    "    range_counts[c][(range_min, range_max)] += 1"
   ]
  },
  {
   "cell_type": "code",
   "execution_count": 29,
   "metadata": {},
   "outputs": [
    {
     "data": {
      "text/plain": [
       "defaultdict(<function __main__.<lambda>()>,\n",
       "            {'good': defaultdict(int,\n",
       "                         {(700, 750): 243,\n",
       "                          (650, 700): 280,\n",
       "                          (600, 650): 115,\n",
       "                          (750, 800): 47,\n",
       "                          (550, 600): 11,\n",
       "                          (1400, 1450): 2,\n",
       "                          (1450, 1500): 1,\n",
       "                          (1500, 1550): 1}),\n",
       "             'bad': defaultdict(int,\n",
       "                         {(600, 650): 155,\n",
       "                          (550, 600): 47,\n",
       "                          (-150, -100): 5,\n",
       "                          (650, 700): 73,\n",
       "                          (700, 750): 13,\n",
       "                          (-200, -150): 3,\n",
       "                          (-250, -200): 1,\n",
       "                          (500, 550): 2,\n",
       "                          (0, 50): 1})})"
      ]
     },
     "execution_count": 29,
     "metadata": {},
     "output_type": "execute_result"
    }
   ],
   "source": [
    "range_counts"
   ]
  },
  {
   "cell_type": "code",
   "execution_count": 30,
   "metadata": {},
   "outputs": [
    {
     "data": {
      "text/plain": [
       "647.1228762045055"
      ]
     },
     "execution_count": 30,
     "metadata": {},
     "output_type": "execute_result"
    }
   ],
   "source": [
    "scorecard_builder.offset"
   ]
  },
  {
   "cell_type": "code",
   "execution_count": 31,
   "metadata": {},
   "outputs": [
    {
     "data": {
      "text/plain": [
       "28.85390081777927"
      ]
     },
     "execution_count": 31,
     "metadata": {},
     "output_type": "execute_result"
    }
   ],
   "source": [
    "scorecard_builder.factor"
   ]
  },
  {
   "cell_type": "code",
   "execution_count": 32,
   "metadata": {},
   "outputs": [],
   "source": [
    "df1 = pd.DataFrame(range_counts[\"good\"].items())\n",
    "df2 = pd.DataFrame(range_counts[\"bad\"].items())"
   ]
  },
  {
   "cell_type": "code",
   "execution_count": 33,
   "metadata": {},
   "outputs": [],
   "source": [
    "# df1 = df1[[i  for i in ranges if i in df1.columns]]\n",
    "# df2 = df2[[i  for i in ranges if i in df2.columns]]"
   ]
  },
  {
   "cell_type": "code",
   "execution_count": 34,
   "metadata": {},
   "outputs": [
    {
     "data": {
      "text/html": [
       "<div>\n",
       "<style scoped>\n",
       "    .dataframe tbody tr th:only-of-type {\n",
       "        vertical-align: middle;\n",
       "    }\n",
       "\n",
       "    .dataframe tbody tr th {\n",
       "        vertical-align: top;\n",
       "    }\n",
       "\n",
       "    .dataframe thead th {\n",
       "        text-align: right;\n",
       "    }\n",
       "</style>\n",
       "<table border=\"1\" class=\"dataframe\">\n",
       "  <thead>\n",
       "    <tr style=\"text-align: right;\">\n",
       "      <th></th>\n",
       "      <th>0</th>\n",
       "      <th>1</th>\n",
       "    </tr>\n",
       "  </thead>\n",
       "  <tbody>\n",
       "    <tr>\n",
       "      <th>0</th>\n",
       "      <td>(700, 750)</td>\n",
       "      <td>243</td>\n",
       "    </tr>\n",
       "    <tr>\n",
       "      <th>1</th>\n",
       "      <td>(650, 700)</td>\n",
       "      <td>280</td>\n",
       "    </tr>\n",
       "    <tr>\n",
       "      <th>2</th>\n",
       "      <td>(600, 650)</td>\n",
       "      <td>115</td>\n",
       "    </tr>\n",
       "    <tr>\n",
       "      <th>3</th>\n",
       "      <td>(750, 800)</td>\n",
       "      <td>47</td>\n",
       "    </tr>\n",
       "    <tr>\n",
       "      <th>4</th>\n",
       "      <td>(550, 600)</td>\n",
       "      <td>11</td>\n",
       "    </tr>\n",
       "    <tr>\n",
       "      <th>5</th>\n",
       "      <td>(1400, 1450)</td>\n",
       "      <td>2</td>\n",
       "    </tr>\n",
       "    <tr>\n",
       "      <th>6</th>\n",
       "      <td>(1450, 1500)</td>\n",
       "      <td>1</td>\n",
       "    </tr>\n",
       "    <tr>\n",
       "      <th>7</th>\n",
       "      <td>(1500, 1550)</td>\n",
       "      <td>1</td>\n",
       "    </tr>\n",
       "  </tbody>\n",
       "</table>\n",
       "</div>"
      ],
      "text/plain": [
       "              0    1\n",
       "0    (700, 750)  243\n",
       "1    (650, 700)  280\n",
       "2    (600, 650)  115\n",
       "3    (750, 800)   47\n",
       "4    (550, 600)   11\n",
       "5  (1400, 1450)    2\n",
       "6  (1450, 1500)    1\n",
       "7  (1500, 1550)    1"
      ]
     },
     "execution_count": 34,
     "metadata": {},
     "output_type": "execute_result"
    }
   ],
   "source": [
    "df1"
   ]
  },
  {
   "cell_type": "code",
   "execution_count": 35,
   "metadata": {},
   "outputs": [
    {
     "data": {
      "text/plain": [
       "<AxesSubplot:xlabel='0'>"
      ]
     },
     "execution_count": 35,
     "metadata": {},
     "output_type": "execute_result"
    },
    {
     "data": {
      "image/png": "[encoded data removed]",
      "text/plain": [
       "<Figure size 432x288 with 1 Axes>"
      ]
     },
     "metadata": {
      "needs_background": "light"
     },
     "output_type": "display_data"
    },
    {
     "data": {
      "image/png": "[encoded data removed]",
      "text/plain": [
       "<Figure size 432x288 with 1 Axes>"
      ]
     },
     "metadata": {
      "needs_background": "light"
     },
     "output_type": "display_data"
    }
   ],
   "source": [
    "df1.plot.bar(x = 0, y=1)\n",
    "df2.plot.bar(x = 0, y=1)"
   ]
  },
  {
   "cell_type": "code",
   "execution_count": 36,
   "metadata": {},
   "outputs": [
    {
     "data": {
      "text/plain": [
       "Index(['status.of.existing.checking.account', 'duration.in.month',\n",
       "       'credit.history', 'purpose', 'credit.amount',\n",
       "       'savings.account.and.bonds', 'present.employment.since',\n",
       "       'installment.rate.in.percentage.of.disposable.income',\n",
       "       'personal.status.and.sex', 'other.debtors.or.guarantors',\n",
       "       'present.residence.since', 'property', 'age.in.years',\n",
       "       'other.installment.plans', 'housing',\n",
       "       'number.of.existing.credits.at.this.bank', 'job',\n",
       "       'number.of.people.being.liable.to.provide.maintenance.for', 'telephone',\n",
       "       'foreign.worker', 'creditability', 'score'],\n",
       "      dtype='object')"
      ]
     },
     "execution_count": 36,
     "metadata": {},
     "output_type": "execute_result"
    }
   ],
   "source": [
    "binner.data.columns"
   ]
  },
  {
   "cell_type": "code",
   "execution_count": 37,
   "metadata": {},
   "outputs": [
    {
     "data": {
      "text/plain": [
       "array(['... < 0 DM', '0 <= ... < 200 DM', 'no checking account',\n",
       "       '... >= 200 DM / salary assignments for at least 1 year'],\n",
       "      dtype=object)"
      ]
     },
     "execution_count": 37,
     "metadata": {},
     "output_type": "execute_result"
    }
   ],
   "source": [
    "binner.data['status.of.existing.checking.account'].unique()"
   ]
  },
  {
   "cell_type": "code",
   "execution_count": 38,
   "metadata": {},
   "outputs": [
    {
     "data": {
      "text/plain": [
       "[(3.932, 10.8], (44.8, 51.6], (10.8, 17.6], (38.0, 44.8], (17.6, 24.4], (31.2, 38.0], (24.4, 31.2], (58.4, 65.2], (51.6, 58.4], (65.2, 72.0]]\n",
       "Categories (10, interval[float64]): [(3.932, 10.8] < (10.8, 17.6] < (17.6, 24.4] < (24.4, 31.2] ... (44.8, 51.6] < (51.6, 58.4] < (58.4, 65.2] < (65.2, 72.0]]"
      ]
     },
     "execution_count": 38,
     "metadata": {},
     "output_type": "execute_result"
    }
   ],
   "source": [
    "binner.data['duration.in.month'].unique()"
   ]
  },
  {
   "cell_type": "code",
   "execution_count": null,
   "metadata": {},
   "outputs": [],
   "source": []
  }
 ],
 "metadata": {
  "kernelspec": {
   "display_name": "Python [conda env:tesf-env] *",
   "language": "python",
   "name": "conda-env-tesf-env-py"
  },
  "language_info": {
   "codemirror_mode": {
    "name": "ipython",
    "version": 3
   },
   "file_extension": ".py",
   "mimetype": "text/x-python",
   "name": "python",
   "nbconvert_exporter": "python",
   "pygments_lexer": "ipython3",
   "version": "3.6.12"
  }
 },
 "nbformat": 4,
 "nbformat_minor": 4
}
